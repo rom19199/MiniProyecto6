{
 "cells": [
  {
   "cell_type": "markdown",
   "metadata": {},
   "source": [
    "## MiniProyecto6\n",
    "##### Andrei Portales 19\n",
    "##### Hugo Román 19199\n"
   ]
  }
 ],
 "metadata": {
  "language_info": {
   "name": "python"
  },
  "orig_nbformat": 4
 },
 "nbformat": 4,
 "nbformat_minor": 2
}
