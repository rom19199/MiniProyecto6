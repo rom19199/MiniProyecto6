{
 "cells": [
  {
   "cell_type": "markdown",
   "metadata": {},
   "source": [
    "### MiniProyecto6\n",
    "##### Andrei Portales 19\n",
    "##### Hugo Román 19199\n"
   ]
  },
  {
   "cell_type": "code",
   "execution_count": 3,
   "metadata": {},
   "outputs": [],
   "source": [
    "import random"
   ]
  },
  {
   "cell_type": "markdown",
   "metadata": {},
   "source": [
    "### Ejercicio 1"
   ]
  },
  {
   "cell_type": "markdown",
   "metadata": {},
   "source": [
    "1. Cree un programa en su lenguaje de programación favorito que use el método de Monte Carlo para\n",
    "determinar la probabilidad de cara o escudo en una moneda justa"
   ]
  },
  {
   "cell_type": "code",
   "execution_count": 4,
   "metadata": {},
   "outputs": [
    {
     "name": "stdout",
     "output_type": "stream",
     "text": [
      "Probability is 0.504\n"
     ]
    }
   ],
   "source": [
    "def lanzamiento():\n",
    "    # Generar un numero entre 0 y 1\n",
    "    x = random.uniform(0, 1)\n",
    "    if x > 0.5:\n",
    "        # caras = true\n",
    "        return True\n",
    "    else:\n",
    "        # escudos = false\n",
    "        return False\n",
    "\n",
    "probabilidad = []\n",
    " \n",
    "#simulando 1000 experimentos\n",
    "for i in range(1000):\n",
    "     \n",
    "    # cada experimento tiene 10 lanzamientos de monedas\n",
    "    N = 10\n",
    "    resultados = [] #guardar los resultados en un array\n",
    "    for i in range(N):\n",
    "        result = lanzamiento()\n",
    "        resultados.append(result)\n",
    " \n",
    "    n_caras = sum(resultados)\n",
    "    p_caras = n_caras/N\n",
    "    probabilidad.append(p_caras)\n",
    " \n",
    "p_carasM = sum(probabilidad)/1000\n",
    " \n",
    "print(\"Probability is {:.3f}\".format(p_carasM))"
   ]
  },
  {
   "cell_type": "markdown",
   "metadata": {},
   "source": [
    "2. Grafique usando una gráfica de línea las iteraciones (eje x) y la probabilidad de de las mismas (eje y).\n"
   ]
  }
 ],
 "metadata": {
  "kernelspec": {
   "display_name": "Python 3.7.9 64-bit",
   "language": "python",
   "name": "python3"
  },
  "language_info": {
   "codemirror_mode": {
    "name": "ipython",
    "version": 3
   },
   "file_extension": ".py",
   "mimetype": "text/x-python",
   "name": "python",
   "nbconvert_exporter": "python",
   "pygments_lexer": "ipython3",
   "version": "3.7.9"
  },
  "orig_nbformat": 4,
  "vscode": {
   "interpreter": {
    "hash": "ea547d583f28cf9bc6de4efa6cc12545f62e5886f16a2af1be5b7d26a2508409"
   }
  }
 },
 "nbformat": 4,
 "nbformat_minor": 2
}
