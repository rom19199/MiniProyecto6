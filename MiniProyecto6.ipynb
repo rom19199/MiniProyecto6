{
 "cells": [
  {
   "cell_type": "markdown",
   "metadata": {},
   "source": [
    "### MiniProyecto6\n",
    "##### Andrei Portales 19\n",
    "##### Hugo Román 19199\n"
   ]
  },
  {
   "cell_type": "code",
   "execution_count": 151,
   "metadata": {},
   "outputs": [],
   "source": [
    "import random\n",
    "import matplotlib.pyplot as plt"
   ]
  },
  {
   "cell_type": "markdown",
   "metadata": {},
   "source": [
    "### Ejercicio 1"
   ]
  },
  {
   "cell_type": "markdown",
   "metadata": {},
   "source": [
    "1. Cree un programa en su lenguaje de programación favorito que use el método de Monte Carlo para\n",
    "determinar la probabilidad de cara o escudo en una moneda justa"
   ]
  },
  {
   "cell_type": "code",
   "execution_count": 152,
   "metadata": {},
   "outputs": [
    {
     "name": "stdout",
     "output_type": "stream",
     "text": [
      "Probability is 0.501\n"
     ]
    }
   ],
   "source": [
    "def lanzamiento():\n",
    "    # Generar un numero entre 0 y 1\n",
    "    x = random.uniform(0, 1)\n",
    "    if x > 0.5:\n",
    "        # caras = true\n",
    "        return True\n",
    "    else:\n",
    "        # escudos = false\n",
    "        return False\n",
    "\n",
    "probabilidad = []\n",
    " \n",
    "#simulando 1000 experimentos\n",
    "for i in range(1000):\n",
    "     \n",
    "    # cada experimento tiene 10 lanzamientos de monedas\n",
    "    N = 10\n",
    "    resultados = [] #guardar los resultados en un array\n",
    "    for i in range(N):\n",
    "        result = lanzamiento()\n",
    "        resultados.append(result)\n",
    " \n",
    "    n_caras = sum(resultados)\n",
    "    p_caras = n_caras/N\n",
    "    probabilidad.append(p_caras)\n",
    " \n",
    "p_carasM = sum(probabilidad)/1000\n",
    " \n",
    "print(\"Probability is {:.3f}\".format(p_carasM))"
   ]
  },
  {
   "cell_type": "markdown",
   "metadata": {},
   "source": [
    "2. Grafique usando una gráfica de línea las iteraciones (eje x) y la probabilidad de de las mismas (eje y).\n"
   ]
  },
  {
   "cell_type": "markdown",
   "metadata": {},
   "source": [
    "### Ejercicio 2\n",
    "\n",
    "Consideren un juego imaginario en el que el jugador tiene que escoger una token numerado de 1 a 100 de una caja.\n",
    "\n",
    "Las reglas son las siguientes:\n",
    "1. Los tokens están numerados de 1 a 100 en la caja\n",
    "2. Los jugadores pueden apostar por un número par o impar que saldrá al tomar el token de la caja\n",
    "3. En este juego, 10 y 11 son números especiales. Si se apuesta por un número par, entonces 10 será considerado un número impar; si se apuesta por un número impar, entonces 11 será considerado como un número par.\n",
    "4. Si se apuesta por un número par y se obtiene 10 entonces se pierde.\n",
    "5. Si se apuesta por un número impar y se obtiene 11 entonces se pierde"
   ]
  },
  {
   "cell_type": "code",
   "execution_count": 156,
   "metadata": {},
   "outputs": [],
   "source": [
    "def simulate_game(dinero_total, dinero_apuesta, juegos_totales):\n",
    "    money = dinero_total\n",
    "    apuestas = 0\n",
    "\n",
    "    for game in range(juegos_totales):\n",
    "        apuesta = random.randint(0, 1)\n",
    "        apuestas += 1\n",
    "        token = random.randint(1, 100)\n",
    "\n",
    "        ispar = token % 2 == 0\n",
    "\n",
    "        if apuesta == 0 and ispar:\n",
    "            if token == 10:\n",
    "                break\n",
    "            money += dinero_apuesta\n",
    "        else:\n",
    "            money -= dinero_apuesta\n",
    "\n",
    "        if apuesta == 1 and not ispar:\n",
    "            if token == 11:\n",
    "                break\n",
    "            money += dinero_apuesta\n",
    "        else:\n",
    "            money -= dinero_apuesta\n",
    "\n",
    "        if money <= 0:\n",
    "            break\n",
    "    return money, apuestas"
   ]
  },
  {
   "cell_type": "code",
   "execution_count": 157,
   "metadata": {},
   "outputs": [],
   "source": [
    "a = [simulate_game(100, 1, 50) for i in range(10)]\n",
    "b = [simulate_game(100, 1, 50) for i in range(1000)]\n",
    "c = [simulate_game(100, 1, 10000) for i in range(10)]"
   ]
  },
  {
   "cell_type": "code",
   "execution_count": 164,
   "metadata": {},
   "outputs": [
    {
     "data": {
      "text/plain": [
       "<matplotlib.collections.PathCollection at 0x1caf74e85b0>"
      ]
     },
     "execution_count": 164,
     "metadata": {},
     "output_type": "execute_result"
    },
    {
     "data": {
      "image/png": "[encoded data removed]",
      "text/plain": [
       "<Figure size 1000x500 with 1 Axes>"
      ]
     },
     "metadata": {},
     "output_type": "display_data"
    }
   ],
   "source": [
    "plt.figure(figsize=(10, 5))\n",
    "plt.title(\"10 juegos\")\n",
    "ejex = [i[1] for i in a]\n",
    "ejey = [i[0] for i in a]\n",
    "plt.scatter(ejex, ejey)"
   ]
  }
 ],
 "metadata": {
  "kernelspec": {
   "display_name": "Python 3.9.13 64-bit (microsoft store)",
   "language": "python",
   "name": "python3"
  },
  "language_info": {
   "codemirror_mode": {
    "name": "ipython",
    "version": 3
   },
   "file_extension": ".py",
   "mimetype": "text/x-python",
   "name": "python",
   "nbconvert_exporter": "python",
   "pygments_lexer": "ipython3",
   "version": "3.9.13"
  },
  "orig_nbformat": 4,
  "vscode": {
   "interpreter": {
    "hash": "52fef9f371462526e6c16fbedf2b5b9bc32d90752958a415cf9672d41d7c1c70"
   }
  }
 },
 "nbformat": 4,
 "nbformat_minor": 2
}
